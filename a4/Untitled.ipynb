{
 "cells": [
  {
   "cell_type": "code",
   "execution_count": 1,
   "metadata": {},
   "outputs": [
    {
     "ename": "UndefVarError",
     "evalue": "UndefVarError: Diagonal not defined",
     "output_type": "error",
     "traceback": [
      "UndefVarError: Diagonal not defined",
      "",
      "Stacktrace:",
      " [1] leastSquaresRBF(::Array{Float64,2}, ::Array{Float64,1}, ::Float64, ::Float64) at C:\\Users\\Liyx\\Desktop\\UBC\\cpsc532m\\assignments\\a4new\\a4\\leastSquares.jl:72",
      " [2] top-level scope at .\\In[1]:29"
     ]
    }
   ],
   "source": [
    "using Printf\n",
    "using Random\n",
    "\n",
    "# Load X and y variable\n",
    "using JLD\n",
    "data = load(\"basisData.jld\")\n",
    "(X,y,Xtest,ytest) = (data[\"X\"],data[\"y\"],data[\"Xtest\"],data[\"ytest\"])\n",
    "\n",
    "# Data is sorted, so *randomly* split into train and validation:\n",
    "n = size(X,1)\n",
    "perm = randperm(n)\n",
    "validStart = Int64(n/2+1) # Start of validation indices\n",
    "validEnd = Int64(n) # End of validation incides\n",
    "validNdx = perm[validStart:validEnd] # Indices of validation examples\n",
    "trainNdx = perm[setdiff(1:n,validStart:validEnd)] # Indices of training examples\n",
    "Xtrain = X[trainNdx,:]\n",
    "ytrain = y[trainNdx]\n",
    "Xvalid = X[validNdx,:]\n",
    "yvalid = y[validNdx]\n",
    "\n",
    "# Find best value of RBF variance parameter,\n",
    "#\ttraining on the train set and validating on the test set\n",
    "include(\"leastSquares.jl\")\n",
    "minErr = Inf\n",
    "bestSigma = []\n",
    "for sigma in 2.0.^(-15:15)\n",
    "\n",
    "\t# Train on the training set\n",
    "\tmodel = leastSquaresRBF(Xtrain,ytrain,sigma,10^(-12))\n",
    "\n",
    "\t# Compute the error on the validation set\n",
    "\tyhat = model.predict(Xvalid)\n",
    "\tvalidError = sum((yhat - yvalid).^2)/(n/2)\n",
    "\t@printf(\"With sigma = %.3f, validError = %.2f\\n\",sigma,validError)\n",
    "\n",
    "\t# Keep track of the lowest validation error\n",
    "\tif validError < minErr\n",
    "\t\tglobal minErr = validError\n",
    "\t\tglobal bestSigma = sigma\n",
    "\tend\n",
    "\n",
    "end\n",
    "\n",
    "# Now fit the model based on the full dataset\n",
    "model = leastSquaresRBF(X,y,bestSigma)\n",
    "\n",
    "# Report the error on the test set\n",
    "t = size(Xtest,1)\n",
    "yhat = model.predict(Xtest)\n",
    "testError = sum((yhat - ytest).^2)/t\n",
    "@printf(\"With best sigma of %.3f, testError = %.2f\\n\",bestSigma,testError)\n",
    "\n",
    "# Plot model\n",
    "using PyPlot\n",
    "figure()\n",
    "plot(X,y,\"b.\")\n",
    "plot(Xtest,ytest,\"g.\")\n",
    "Xhat = minimum(X):.1:maximum(X)\n",
    "Xhat = reshape(Xhat,length(Xhat),1) # Make into an n by 1 matrix\n",
    "yhat = model.predict(Xhat)\n",
    "plot(Xhat,yhat,\"r\")\n",
    "ylim((-300,400))\n"
   ]
  },
  {
   "cell_type": "code",
   "execution_count": null,
   "metadata": {},
   "outputs": [],
   "source": []
  }
 ],
 "metadata": {
  "kernelspec": {
   "display_name": "Julia 1.0.4",
   "language": "julia",
   "name": "julia-1.0"
  },
  "language_info": {
   "file_extension": ".jl",
   "mimetype": "application/julia",
   "name": "julia",
   "version": "1.0.4"
  }
 },
 "nbformat": 4,
 "nbformat_minor": 2
}
